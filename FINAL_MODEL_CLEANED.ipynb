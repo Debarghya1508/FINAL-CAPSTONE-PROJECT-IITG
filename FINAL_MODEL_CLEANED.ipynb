{
 "cells": [
  {
   "cell_type": "code",
   "execution_count": null,
   "metadata": {
    "colab": {
     "base_uri": "https://localhost:8080/"
    },
    "id": "gcEFuQcve6tN",
    "outputId": "e7e67dfb-b2c0-4a8b-9efa-e1e305feb250"
   },
   "outputs": [],
   "source": [
    "!pip install pathway bokeh --quiet\n"
   ]
  },
  {
   "cell_type": "code",
   "execution_count": null,
   "metadata": {
    "colab": {
     "base_uri": "https://localhost:8080/",
     "height": 17
    },
    "id": "EnzZY_Nde6wZ",
    "outputId": "61224f4d-6869-4905-b208-c5ce1ae27eaf"
   },
   "outputs": [],
   "source": [
    "import numpy as np\n",
    "import pandas as pd\n",
    "import matplotlib.pyplot as plt\n",
    "import datetime\n",
    "from datetime import datetime\n",
    "import pathway as pw\n",
    "import bokeh.plotting\n",
    "import panel as pn"
   ]
  },
  {
   "cell_type": "code",
   "execution_count": null,
   "metadata": {
    "colab": {
     "base_uri": "https://localhost:8080/",
     "height": 423
    },
    "id": "7_j_uCl0e6y3",
    "outputId": "dca1e4c1-942d-445d-e9b8-556b13847ea5"
   },
   "outputs": [],
   "source": [
    "import pandas as pd\n",
    "\n",
    "\n",
    "df1 = pd.read_csv(\"dataset.csv\")\n",
    "df1"
   ]
  },
  {
   "cell_type": "code",
   "execution_count": null,
   "metadata": {
    "id": "yEd7ZDzwe62B"
   },
   "outputs": [],
   "source": [
    "df1['Timestamp'] = pd.to_datetime(df1['LastUpdatedDate'] + ' ' + df1['LastUpdatedTime'],\n",
    "                                  format='%d-%m-%Y %H:%M:%S')"
   ]
  },
  {
   "cell_type": "code",
   "execution_count": null,
   "metadata": {
    "id": "2Zs1Mchme65U"
   },
   "outputs": [],
   "source": [
    "df1 = df1.sort_values('Timestamp').reset_index(drop=True)"
   ]
  },
  {
   "cell_type": "code",
   "execution_count": null,
   "metadata": {
    "id": "BOBhhFnme67s"
   },
   "outputs": [],
   "source": [
    "# df1.to_csv(\"parking_stream_1.csv\", index=False)\n",
    "df1[[\"Timestamp\", \"Occupancy\", \"Capacity\"]].to_csv(\"parking_stream1.csv\", index=False)\n"
   ]
  },
  {
   "cell_type": "code",
   "execution_count": null,
   "metadata": {
    "id": "ZQw4VLOufrgz"
   },
   "outputs": [],
   "source": [
    "# class ParkingSchema1(pw.Schema):\n",
    "#     ID: int\n",
    "#     SystemCodeNumber: str\n",
    "#     Capacity: int\n",
    "#     Latitude: float\n",
    "#     Longitude: float\n",
    "#     Occupancy: int\n",
    "#     VehicleType: str\n",
    "#     TrafficConditionNearby: str\n",
    "#     QueueLength: int\n",
    "#     IsSpecialDay: int\n",
    "#     LastUpdatedDate: str\n",
    "#     LastUpdatedTime: str\n",
    "#     Timestamp: str  # already parsed into full timestamp\n",
    "class ParkingSchema1(pw.Schema):\n",
    "    Timestamp: str   # Timestamp of the observation (should ideally be in ISO format)\n",
    "    Occupancy: int   # Number of occupied parking spots\n",
    "    Capacity: int    # Total parking capacity at the location"
   ]
  },
  {
   "cell_type": "code",
   "execution_count": null,
   "metadata": {
    "id": "cscOM1lofrjl"
   },
   "outputs": [],
   "source": [
    "data1 = pw.demo.replay_csv(\"parking_stream1.csv\", schema=ParkingSchema1, input_rate=1000)\n"
   ]
  },
  {
   "cell_type": "code",
   "execution_count": null,
   "metadata": {
    "id": "XrESL36bfrl4"
   },
   "outputs": [],
   "source": [
    "fmt = \"%Y-%m-%d %H:%M:%S\"\n",
    "\n",
    "# Add new columns to the data stream:\n",
    "# - 't' contains the parsed full datetime\n",
    "# - 'day' extracts the date part and resets the time to midnight (useful for day-level aggregations)\n",
    "data_with_time1 = data1.with_columns(\n",
    "    t1 = data1.Timestamp.dt.strptime(fmt),\n",
    "    day1 = data1.Timestamp.dt.strptime(fmt).dt.strftime(\"%Y-%m-%dT00:00:00\")\n",
    ")"
   ]
  },
  {
   "cell_type": "code",
   "execution_count": null,
   "metadata": {
    "id": "5qyUhQshfrpX"
   },
   "outputs": [],
   "source": [
    "import datetime\n",
    "\n",
    "delta_window1 = (\n",
    "    data_with_time1.windowby(\n",
    "        pw.this.t1,\n",
    "        instance=pw.this.day1,\n",
    "        window=pw.temporal.tumbling(datetime.timedelta(days=1)),\n",
    "        behavior=pw.temporal.exactly_once_behavior()\n",
    "    )\n",
    "    .reduce(\n",
    "        t1=pw.this._pw_window_end,\n",
    "        occ_max1=pw.reducers.max(pw.this.Occupancy),\n",
    "        occ_min1=pw.reducers.min(pw.this.Occupancy),\n",
    "        cap1=pw.reducers.max(pw.this.Capacity),\n",
    "        #queue_avg=pw.reducers.mean(pw.this.QueueLength),  # optional\n",
    "    )\n",
    "    .with_columns(\n",
    "        price1=10 + (pw.this.occ_max1 - pw.this.occ_min1) / pw.this.cap1\n",
    "    )\n",
    ")\n"
   ]
  },
  {
   "cell_type": "code",
   "execution_count": null,
   "metadata": {
    "colab": {
     "base_uri": "https://localhost:8080/",
     "height": 486
    },
    "id": "Jv7-_x-8e6_J",
    "outputId": "2f2a6f6a-82f8-49e6-a700-b8c24e381a3b"
   },
   "outputs": [],
   "source": [
    "pn.extension()\n",
    "\n",
    "# Define a custom Bokeh plotting function that takes a data source (from Pathway) and returns a figure\n",
    "def price_plotter(source):\n",
    "    # Create a Bokeh figure with datetime x-axis\n",
    "    fig = bokeh.plotting.figure(\n",
    "        height=400,\n",
    "        width=800,\n",
    "        title=\"Pathway: Daily Parking Price\",\n",
    "        x_axis_type=\"datetime\",  # Ensure time-based data is properly formatted on the x-axis\n",
    "    )\n",
    "    # Plot a line graph showing how the price evolves over time\n",
    "    fig.line(\"t1\", \"price1\", source=source, line_width=2, color=\"navy\")\n",
    "\n",
    "    # Overlay red circles at each data point for better visibility\n",
    "    fig.circle(\"t1\", \"price1\", source=source, size=6, color=\"red\")\n",
    "\n",
    "    return fig\n",
    "\n",
    "# Use Pathway's built-in .plot() method to bind the data stream (delta_window) to the Bokeh plot\n",
    "# - 'price_plotter' is the rendering function\n",
    "# - 'sorting_col=\"t\"' ensures the data is plotted in time order\n",
    "viz = delta_window1.plot(price_plotter, sorting_col=\"t1\")\n",
    "# Create a Panel layout and make it servable as a web app\n",
    "# This line enables the interactive plot to be displayed when the app is served\n",
    "pn.Column(viz).servable()"
   ]
  },
  {
   "cell_type": "code",
   "execution_count": null,
   "metadata": {
    "id": "ijFfqgmFf3wj"
   },
   "outputs": [],
   "source": [
    "import numpy as np\n",
    "import pandas as pd\n",
    "import matplotlib.pyplot as plt\n",
    "import datetime\n",
    "from datetime import datetime\n",
    "import pathway as pw\n",
    "import bokeh.plotting\n",
    "import panel as pn\n",
    "import seaborn as sns"
   ]
  },
  {
   "cell_type": "code",
   "execution_count": null,
   "metadata": {
    "colab": {
     "base_uri": "https://localhost:8080/",
     "height": 423
    },
    "id": "KzTH6sFKf3zX",
    "outputId": "997e0adb-8c60-4f73-d8f9-946bf6b33320"
   },
   "outputs": [],
   "source": [
    "df2 = pd.read_csv('dataset.csv')\n",
    "df2"
   ]
  },
  {
   "cell_type": "code",
   "execution_count": null,
   "metadata": {
    "colab": {
     "base_uri": "https://localhost:8080/",
     "height": 790
    },
    "id": "kUVYfcRhgVv0",
    "outputId": "d5a5672a-52ea-4cb4-e47b-de9128a116ca"
   },
   "outputs": [],
   "source": [
    " #Combine the 'LastUpdatedDate' and 'LastUpdatedTime' columns into a single datetime column\n",
    "df2['Timestamp'] = pd.to_datetime(df2['LastUpdatedDate'] + ' ' + df2['LastUpdatedTime'],format='%d-%m-%Y %H:%M:%S')\n",
    "\n",
    "# Sort the DataFrame by the new 'Timestamp' column and reset the index\n",
    "\n",
    "traffic_map = {'low': 1, 'average': 2, 'high': 3}\n",
    "vehicle_map = {'car': 1.0, 'bike': 0.5,'truck': 2.0, 'cycle': 0.2}  # Ex\n",
    "df2['traffic_level_num'] =  df2[\"TrafficConditionNearby\"].map(traffic_map).fillna(0)\n",
    "df2['vehicle_weight_num'] =  df2[\"VehicleType\"].map(vehicle_map).fillna(0)\n",
    "df2 = df2.sort_values('Timestamp').reset_index(drop=True)\n",
    "df2"
   ]
  },
  {
   "cell_type": "code",
   "execution_count": null,
   "metadata": {
    "id": "QDbJZM4kgVyF"
   },
   "outputs": [],
   "source": [
    "df2[[\"Timestamp\", \"Occupancy\", \"Capacity\",\"QueueLength\",\"traffic_level_num\",\"IsSpecialDay\",\"vehicle_weight_num\"]].to_csv(\"parking_stream2.csv\", index=False)\n"
   ]
  },
  {
   "cell_type": "code",
   "execution_count": null,
   "metadata": {
    "colab": {
     "base_uri": "https://localhost:8080/",
     "height": 423
    },
    "id": "Yshm_-_3gV1g",
    "outputId": "02f7ca01-85ae-488a-8ee3-34054c39854d"
   },
   "outputs": [],
   "source": [
    "park=pd.read_csv(\"parking_stream2.csv\")\n",
    "park"
   ]
  },
  {
   "cell_type": "code",
   "execution_count": null,
   "metadata": {
    "colab": {
     "base_uri": "https://localhost:8080/",
     "height": 582
    },
    "id": "NcEZ2vl-f35a",
    "outputId": "a4cbfefa-80b7-4ceb-a9b0-65ec45509137"
   },
   "outputs": [],
   "source": [
    "sns.heatmap(park.isnull())"
   ]
  },
  {
   "cell_type": "code",
   "execution_count": null,
   "metadata": {
    "id": "-MRATUz2gkWU"
   },
   "outputs": [],
   "source": [
    "class ParkingSchema2(pw.Schema):\n",
    "    #ID: int\n",
    "   # SystemCodeNumber: str\n",
    "    Capacity: int\n",
    "   # Latitude: float\n",
    "   # Longitude: float\n",
    "    Occupancy: int\n",
    "    vehicle_weight_num: float\n",
    "    traffic_level_num: int\n",
    "    QueueLength: int\n",
    "    IsSpecialDay: int\n",
    "   # LastUpdatedDate: str\n",
    "   # LastUpdatedTime: str\n",
    "    Timestamp: str  # already parsed into full timestamp\n",
    "\n",
    "\n"
   ]
  },
  {
   "cell_type": "code",
   "execution_count": null,
   "metadata": {
    "id": "y5s70E7FgkZI"
   },
   "outputs": [],
   "source": [
    "data2 = pw.demo.replay_csv(\"parking_stream2.csv\", schema=ParkingSchema2, input_rate=1000)\n"
   ]
  },
  {
   "cell_type": "code",
   "execution_count": null,
   "metadata": {
    "id": "_hK-_RLKgkb7"
   },
   "outputs": [],
   "source": [
    "ALPHA = 0.6   # Weight for occupancy rate\n",
    "BETA = 0.2    # Weight for queue length\n",
    "GAMMA = 0.15  # Penalty for traffic level\n",
    "DELTA = 0.3   # Boost for special day\n",
    "EPSILON = 0.1 # Vehicle type weight\n",
    "LAMBDA = 0.5  # Price adjustment factor\n",
    "BASE_PRICE = 10.0\n",
    "\n",
    "# Define mappings for categorical features\n",
    "# traffic_map = {'low': 1, 'average': 2, 'high': 3}\n",
    "# vehicle_map = {'car': 1.0, 'bike': 0.5,'truck': 2.0, 'cycle': 0.2}  # Extend this as needed"
   ]
  },
  {
   "cell_type": "code",
   "execution_count": null,
   "metadata": {
    "id": "3zErSwGDgr_A"
   },
   "outputs": [],
   "source": [
    "fmt = \"%Y-%m-%d %H:%M:%S\"\n",
    "\n",
    "# Add new columns to the data stream:\n",
    "# - 't' contains the parsed full datetime\n",
    "# - 'day' extracts the date part and resets the time to midnight (useful for day-level aggregations)\n",
    "data_with_time2 = data2.with_columns(\n",
    "    t2 = data2.Timestamp.dt.strptime(fmt),\n",
    "    day2 = data2.Timestamp.dt.strptime(fmt).dt.strftime(\"%Y-%m-%dT00:00:00\"),\n",
    "\n",
    "\n",
    ")"
   ]
  },
  {
   "cell_type": "code",
   "execution_count": null,
   "metadata": {
    "id": "EeWgLMxOgsBb"
   },
   "outputs": [],
   "source": [
    "import datetime\n",
    "\n",
    "delta_window2 = (\n",
    "    data_with_time2.windowby(\n",
    "        pw.this.t2,  # Event time column to use for windowing (parsed datetime)\n",
    "        instance=pw.this.day2,  # Logical partitioning key: one instance per calendar day\n",
    "        window=pw.temporal.tumbling(datetime.timedelta(days=1)),  # Fixed-size daily window\n",
    "        behavior=pw.temporal.exactly_once_behavior()  # Guarantees exactly-once processing semantics\n",
    "    ) .reduce(\n",
    "        t2=pw.this._pw_window_end,                        # Assign the end timestamp of each window\n",
    "        occ_max2=pw.reducers.max(pw.this.Occupancy),      # Highest occupancy observed in the window\n",
    "        occ_min2=pw.reducers.min(pw.this.Occupancy),      # Lowest occupancy observed in the window\n",
    "        cap2=pw.reducers.max(pw.this.Capacity),           # Maximum capacity observed (typically constant per spot)\n",
    "\n",
    "        queue_length_num = pw.reducers.max(pw.this.QueueLength), # Include queue length\n",
    "        traffic_level_num = pw.reducers.max(pw.this.traffic_level_num), # Include traffic level\n",
    "        is_special_day_num = pw.reducers.max(pw.this.IsSpecialDay), # Include special day\n",
    "        vehicle_weight_num = pw.reducers.max(pw.this.vehicle_weight_num) # Include vehicle weight\n",
    "    ))\n"
   ]
  },
  {
   "cell_type": "code",
   "execution_count": null,
   "metadata": {
    "id": "msu88vM3gsE8"
   },
   "outputs": [],
   "source": [
    "reduced_data=delta_window2.with_columns(\n",
    "        # Compute the price using a simple dynamic pricing formula:\n",
    "        #\n",
    "        # Pricing Formula:\n",
    "        #     price = base_price + demand_fluctuation\n",
    "        #     where:\n",
    "        #         base_price = 10 (fixed minimum price)\n",
    "        #         demand_fluctuation = (occ_max - occ_min) / cap\n",
    "        #\n",
    "        # Intuition:\n",
    "        # - The greater the difference between peak and low occupancy in a day,\n",
    "        #   the more volatile the demand is, indicating potential scarcity.\n",
    "        # - Dividing by capacity normalizes the fluctuation (to stay in [0,1] range).\n",
    "        # - This fluctuation is added to the base price of 10 to set the final price.\n",
    "        # - Example: If occ_max = 90, occ_min = 30, cap = 100\n",
    "        #            => price = 10 + (90 - 30)/100 = 10 + 0.6 = 10.6\n",
    "        demand= (ALPHA*((pw.this.occ_max2 - pw.this.occ_min2) / pw.this.cap2)\n",
    "                        +BETA*pw.this.queue_length_num\n",
    "                        -GAMMA*pw.this.traffic_level_num\n",
    "                        +DELTA*pw.this.is_special_day_num\n",
    "                        +EPSILON*pw.this.vehicle_weight_num)\n",
    "\n",
    "    )\n"
   ]
  },
  {
   "cell_type": "code",
   "execution_count": null,
   "metadata": {
    "id": "CdVhfhcIg1DP"
   },
   "outputs": [],
   "source": [
    "norm_red_data=reduced_data.with_columns(\n",
    "    normalized_demand = pw.this.demand / (1 + abs(pw.this.demand))\n",
    ")\n",
    "\n"
   ]
  },
  {
   "cell_type": "code",
   "execution_count": null,
   "metadata": {
    "id": "2SqGpmqbg1Fu"
   },
   "outputs": [],
   "source": [
    "price_data= norm_red_data.with_columns(\n",
    "        price2=10 * (1 + LAMBDA*pw.this.normalized_demand)\n",
    ")"
   ]
  },
  {
   "cell_type": "code",
   "execution_count": null,
   "metadata": {
    "colab": {
     "base_uri": "https://localhost:8080/",
     "height": 486
    },
    "id": "_lTnapeIg1JI",
    "outputId": "dd8d24bb-5561-4309-e98b-45b765f6fcf2"
   },
   "outputs": [],
   "source": [
    "pn.extension()\n",
    "\n",
    "def price_plotter(source):\n",
    "    fig = bokeh.plotting.figure(\n",
    "        height=400,\n",
    "        width=800,\n",
    "        title=\"Model 2: Demand-Based Daily Parking Price\",\n",
    "        x_axis_type=\"datetime\",\n",
    "    )\n",
    "    fig.line(\"t2\", \"price2\", source=source, line_width=2, color=\"darkblue\", legend_label=\"Dynamic Price\")\n",
    "    fig.circle(\"t2\", \"price2\", source=source, size=6, color=\"red\")\n",
    "    fig.legend.location = \"top_left\"\n",
    "    return fig\n",
    "\n",
    "# Create reactive visualization\n",
    "viz = price_data.plot(price_plotter, sorting_col=\"t2\")\n",
    "\n",
    "# Display it as a Panel app\n",
    "pn.Column(viz).servable()\n"
   ]
  },
  {
   "cell_type": "code",
   "execution_count": null,
   "metadata": {
    "colab": {
     "base_uri": "https://localhost:8080/",
     "height": 53,
     "referenced_widgets": [
      "51d1a2ea5eaa4cde999c05e02c901740",
      "2dad70d6f4274e618b7539af5ffe86b8"
     ]
    },
    "id": "LC29--yBgkfZ",
    "outputId": "4a2179cf-b0fc-40de-a7b4-096dcd95fecf"
   },
   "outputs": [],
   "source": [
    "%%capture --no-display\n",
    "pw.run()"
   ]
  }
 ],
 "metadata": {
  "colab": {
   "provenance": []
  },
  "kernelspec": {
   "display_name": "Python 3",
   "name": "python3"
  },
  "language_info": {
   "name": "python"
  }
 },
 "nbformat": 4,
 "nbformat_minor": 0
}
